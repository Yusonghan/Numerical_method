{
 "cells": [
  {
   "cell_type": "markdown",
   "id": "1785d7e9-b7b3-4cb8-b067-240769999d6d",
   "metadata": {},
   "source": [
    "### import the module you need first"
   ]
  },
  {
   "cell_type": "code",
   "execution_count": 1,
   "id": "313fb391-79e9-4b50-88b6-8f48c9d46df0",
   "metadata": {},
   "outputs": [],
   "source": [
    "import numpy as np\n",
    "from copy import deepcopy"
   ]
  },
  {
   "cell_type": "markdown",
   "id": "db73bf73-205d-4f1d-86c7-b4c6983b3caf",
   "metadata": {},
   "source": [
    "## step1. \n",
    "#### Construct a numpy array represent the equations.\n",
    "#### the coefficients,answers and augmented matrix of each equation need to be stored separately."
   ]
  },
  {
   "cell_type": "code",
   "execution_count": 2,
   "id": "ad87b898-ac34-489a-b03c-17bf873adc7a",
   "metadata": {},
   "outputs": [
    {
     "name": "stdout",
     "output_type": "stream",
     "text": [
      "[[ 0.  5. -7.  7.]\n",
      " [ 4.  0. -1.  8.]\n",
      " [ 1. -1. -1.  9.]]\n"
     ]
    }
   ],
   "source": [
    "\"\"\"\n",
    "example:\n",
    " \n",
    "5y-7z = 7        | 0 5 -7 7 |\n",
    "4x-z = 8      -> | 4 0 -1 8 |\n",
    "x-y-z = 9        | 1 -1 -1 9 |\n",
    "\"\"\"\n",
    "A=np.array([[0,5,-7,7],[4,0,-1,8],[1,-1,-1,9]],dtype=float) #要宣告成float型態\n",
    "print(A)"
   ]
  },
  {
   "cell_type": "markdown",
   "id": "997cb39d-1f1c-4a0a-bb0a-337998aa9bee",
   "metadata": {},
   "source": [
    "## step2. \n",
    "### Before doing gauss elimination,\n",
    "### we need to check if the first element([0,0]) of the augmented matrix is zero or not.\n",
    "### If the first element is zero,\n",
    "### we need to find another row whose first element isn't zero,and change them."
   ]
  },
  {
   "cell_type": "code",
   "execution_count": 3,
   "id": "dd3f26c2-8e80-4fc7-9275-fdc3757f28a5",
   "metadata": {},
   "outputs": [],
   "source": [
    "if(A[0,0]==0):\n",
    "    i=1\n",
    "    while(A[0,0]==0):\n",
    "        A[[i,0],:]=A[[0,i],:] #第1列和第(2+n)列互換，n從0遞增     \n",
    "        #print(A) 確認互換成功\n",
    "        if(A[0,0]==0): #若換過來還是0，則換回來\n",
    "            A[[i,0],:]=A[[0,i],:]\n",
    "            #print(A) 確認有換回來\n",
    "        i+=1 #繼續嘗試直到成功"
   ]
  },
  {
   "cell_type": "code",
   "execution_count": 4,
   "id": "c17a6dd0-6de4-4ec7-98c7-6c8108fa2637",
   "metadata": {},
   "outputs": [
    {
     "name": "stdout",
     "output_type": "stream",
     "text": [
      "[[ 4.  0. -1.  8.]\n",
      " [ 0.  5. -7.  7.]\n",
      " [ 1. -1. -1.  9.]]\n"
     ]
    }
   ],
   "source": [
    "#test:step2\n",
    "#print the new augment matrix\n",
    "print(A)"
   ]
  },
  {
   "cell_type": "markdown",
   "id": "779517a5-46f4-4d1c-9b12-31d7bdafe95c",
   "metadata": {},
   "source": [
    "## step3. gauss elimination\n",
    "\n",
    "#### print the matrix after  gauss elimination"
   ]
  },
  {
   "cell_type": "code",
   "execution_count": 5,
   "id": "494bc074-c8f1-442c-a893-4aeecaaea4b9",
   "metadata": {},
   "outputs": [],
   "source": [
    "B=np.zeros((3,4),dtype=float) #宣告一個B矩陣存成float型態\n",
    "B=deepcopy(A) #將A暫存到B，因為等等LU分解還會用到A\n",
    "for i in range(3): #列\n",
    "    for j in range(i+1,3): #n+1列\n",
    "            ratio=B[j][i]/B[i][i] #算比值消掉\n",
    "            B[j,:]=B[j,:]+B[i,:]*(-ratio)"
   ]
  },
  {
   "cell_type": "code",
   "execution_count": 6,
   "id": "b7b93b27-512b-460a-b3e8-243b1037a772",
   "metadata": {},
   "outputs": [
    {
     "name": "stdout",
     "output_type": "stream",
     "text": [
      "[[ 4.    0.   -1.    8.  ]\n",
      " [ 0.    5.   -7.    7.  ]\n",
      " [ 0.    0.   -2.15  8.4 ]]\n"
     ]
    }
   ],
   "source": [
    "#test:step3\n",
    "#print the augment matrix after gauss elimination\n",
    "print(B)"
   ]
  },
  {
   "cell_type": "markdown",
   "id": "ba7b24d1-c4de-4011-bb69-36e62982facd",
   "metadata": {},
   "source": [
    "## step4. LU decomposition(bonus)\n",
    "\n",
    "## if you don't want to submit bouns,you don't need to do  step4 and step5"
   ]
  },
  {
   "cell_type": "code",
   "execution_count": 7,
   "id": "bfd7787a-d232-4211-b394-9f3e453236cd",
   "metadata": {},
   "outputs": [],
   "source": [
    "import scipy.linalg as la\n",
    "\n",
    "array_1=A[:,3] #提出第四行元素\n",
    "#print(array_1) 測試\n",
    "modified_A=np.delete(A,[3],1) #移除第三行元素\n",
    "#print(modified_A) \n",
    "P,L,U=la.lu(modified_A) #LU decomposition\n",
    "\n",
    "y=la.solve_triangular(L,array_1,lower=True) #Ly=array_1\n",
    "x=la.solve_triangular(U,y) #Ux=y"
   ]
  },
  {
   "cell_type": "code",
   "execution_count": 8,
   "id": "6a08b2d3-ea8d-487b-b56d-6cccfc0e8283",
   "metadata": {},
   "outputs": [
    {
     "name": "stdout",
     "output_type": "stream",
     "text": [
      "[[ 1.    0.    0.  ]\n",
      " [ 0.    1.    0.  ]\n",
      " [ 0.25 -0.2   1.  ]]\n",
      "[[ 4.    0.   -1.  ]\n",
      " [ 0.    5.   -7.  ]\n",
      " [ 0.    0.   -2.15]]\n"
     ]
    }
   ],
   "source": [
    "#print L and U\n",
    "print(L)\n",
    "print(U)"
   ]
  },
  {
   "cell_type": "markdown",
   "id": "d8296438-bc7c-4eb5-b53f-d688ef7b9101",
   "metadata": {},
   "source": [
    "## step5. check the ansewer of LU(bonus)\n",
    "\n",
    "please use the function in scipy.linalg to check your answer\n",
    "\n",
    "the documentatin of scipy.linalg :\n",
    "https://docs.scipy.org/doc/scipy/reference/linalg.html"
   ]
  },
  {
   "cell_type": "code",
   "execution_count": 9,
   "id": "f4ea710a-bab4-4071-a397-a6db0e8bb3b9",
   "metadata": {},
   "outputs": [],
   "source": [
    "import scipy.linalg as la"
   ]
  },
  {
   "cell_type": "code",
   "execution_count": 10,
   "id": "d8071834-e0d6-4fc4-a878-6822d5facce7",
   "metadata": {},
   "outputs": [
    {
     "name": "stdout",
     "output_type": "stream",
     "text": [
      "[[ 4.  0. -1.]\n",
      " [ 0.  5. -7.]\n",
      " [ 1. -1. -1.]]\n",
      "Correct.\n"
     ]
    }
   ],
   "source": [
    "check_matrix=np.zeros([3,3]) #宣告一個空白矩陣(其實不用)\n",
    "check_matrix=L.dot(U) #LU=A,存到空白矩陣裡 \n",
    "print(check_matrix) \n",
    "if(check_matrix.all()==modified_A.all()):\n",
    "    print('Correct.')\n",
    "else:\n",
    "    print('Incorrect.') "
   ]
  }
 ],
 "metadata": {
  "kernelspec": {
   "display_name": "Python 3 (ipykernel)",
   "language": "python",
   "name": "python3"
  },
  "language_info": {
   "codemirror_mode": {
    "name": "ipython",
    "version": 3
   },
   "file_extension": ".py",
   "mimetype": "text/x-python",
   "name": "python",
   "nbconvert_exporter": "python",
   "pygments_lexer": "ipython3",
   "version": "3.11.2"
  }
 },
 "nbformat": 4,
 "nbformat_minor": 5
}
