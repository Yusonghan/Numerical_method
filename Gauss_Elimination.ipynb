{
 "cells": [
  {
   "cell_type": "code",
   "execution_count": 41,
   "metadata": {},
   "outputs": [],
   "source": [
    "import numpy as np\n",
    "from copy import deepcopy"
   ]
  },
  {
   "cell_type": "code",
   "execution_count": 39,
   "metadata": {},
   "outputs": [],
   "source": [
    "def gauss_elimination(A,b):\n",
    "    n=len(b)\n",
    "    #print(n)\n",
    "\n",
    "    #foward elimination\n",
    "    for i in range(n):\n",
    "        #partial pivoting\n",
    "        max_index=i\n",
    "        for j in range(i+1,n):\n",
    "            if abs(A[j,i])>abs(A[max_index,i]):\n",
    "                max_index=j\n",
    "        A[[i,max_index],:]=A[[max_index,i],:] #列互換\n",
    "        b[[i,max_index]]=b[[max_index,i]] #列互換\n",
    "        #print(A)\n",
    "        #print(b)\n",
    "        \n",
    "        #elimination\n",
    "        for j in range(i+1,n):\n",
    "            factor=A[j,i]/A[i,i]\n",
    "            A[j,i:]-=factor*A[i,i:]\n",
    "            b[j]-=factor*b[i]\n",
    "    #print(A)\n",
    "    #print(b)\n",
    "    #back substitution\n",
    "    x=np.zeros(n)\n",
    "    #print(x)\n",
    "    i=1\n",
    "    for i in range(n-i,-i,-i):\n",
    "        x[i]=deepcopy((b[i]-np.dot(A[i,i+1:],x[i+1:]))/A[i,i])\n",
    "        #print(x)\n",
    "\n",
    "    return x"
   ]
  },
  {
   "cell_type": "code",
   "execution_count": 40,
   "metadata": {},
   "outputs": [
    {
     "name": "stdout",
     "output_type": "stream",
     "text": [
      "The solution is:\n",
      "x1 = 1.03846154\n",
      "x2 = 0.42307692\n",
      "x3 = 1.30769231\n"
     ]
    }
   ],
   "source": [
    "A=np.array([[0,-2,6],[12,4,-7],[0,4,1]]).astype('float')\n",
    "b=np.array([7,5,3]).astype('float')\n",
    "solution=gauss_elimination(A,b)\n",
    "\n",
    "#print('x:',solution)\n",
    "\n",
    "print(\"The solution is:\")\n",
    "for i, x in enumerate(solution):\n",
    "    print(\"x{} = {:.8f}\".format(i+1, x))"
   ]
  }
 ],
 "metadata": {
  "kernelspec": {
   "display_name": "Python 3",
   "language": "python",
   "name": "python3"
  },
  "language_info": {
   "codemirror_mode": {
    "name": "ipython",
    "version": 3
   },
   "file_extension": ".py",
   "mimetype": "text/x-python",
   "name": "python",
   "nbconvert_exporter": "python",
   "pygments_lexer": "ipython3",
   "version": "3.11.2"
  },
  "orig_nbformat": 4
 },
 "nbformat": 4,
 "nbformat_minor": 2
}
