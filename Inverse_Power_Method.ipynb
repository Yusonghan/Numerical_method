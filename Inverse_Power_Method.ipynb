{
 "cells": [
  {
   "cell_type": "code",
   "execution_count": 1,
   "metadata": {},
   "outputs": [],
   "source": [
    "import numpy as np\n",
    "from numpy.linalg import eig\n",
    "from numpy.linalg import inv"
   ]
  },
  {
   "cell_type": "code",
   "execution_count": 24,
   "metadata": {},
   "outputs": [],
   "source": [
    "def inverse_normalize(x):\n",
    "    # factor fac is the maximum absoulute value of x\n",
    "    fac=abs(x).max() #取向量中最大值\n",
    "    x_n=x/fac\n",
    "    if (x_n.max()!=1): #變號要換回來\n",
    "        fac=fac*-1\n",
    "        x_n=x_n*-1\n",
    "    return fac, x_n #求最小特徵值，所以是倒數"
   ]
  },
  {
   "cell_type": "code",
   "execution_count": 36,
   "metadata": {},
   "outputs": [],
   "source": [
    "def Inverse_Power_Method(a,x):\n",
    "    eigenvalue_true,eigenvector_true=eig(a)\n",
    "    eigenvalue_min=eigenvalue_true.min()\n",
    "    inv_a=inv(a)\n",
    "    #print(inv_a)\n",
    "    x=np.dot(inv_a,x)\n",
    "    lambda_1,x=inverse_normalize(x) #先做一次給lambda_1初值\n",
    "    #print(x) #確認值是否正確\n",
    "    #print(lambda_1)\n",
    "    A=True \n",
    "    i = 1  \n",
    "    while A==True: #跑誤差迴圈 \n",
    "        x=np.dot(inv_a,x) \n",
    "        lambda_1,x=inverse_normalize(x)        \n",
    "        error=abs(eigenvalue_min-(1/lambda_1)) #誤差等於lambda_1跟eigenvalue_min的差值\n",
    "        #print(error) #確認收斂\n",
    "        if(i>10):\n",
    "            A=False\n",
    "        i+=1\n",
    "    x_n=np.dot(a,x) #np.dot(A,x)=lambda*x\n",
    "    lambda_1=x_n[0]/x[0] #x_n=lambda*x\n",
    "    return 1/lambda_1, x"
   ]
  },
  {
   "cell_type": "code",
   "execution_count": 37,
   "metadata": {},
   "outputs": [
    {
     "name": "stdout",
     "output_type": "stream",
     "text": [
      "The Minimum Eigenvalue: -0.3502617427415502\n",
      "Eigenvector: [ 1.         -0.16957999 -0.42076089]\n"
     ]
    }
   ],
   "source": [
    "x = np.array([1, 1, 1])\n",
    "a = np.array([[1, 3, 2],[2, 4, 3],[2, 1, 4]])\n",
    "Eigenvalue, Eigenvector = Inverse_Power_Method(a, x)\n",
    "print(\"The Minimum Eigenvalue:\", 1/Eigenvalue)\n",
    "print(\"Eigenvector:\", Eigenvector)"
   ]
  },
  {
   "cell_type": "code",
   "execution_count": 17,
   "metadata": {},
   "outputs": [
    {
     "name": "stdout",
     "output_type": "stream",
     "text": [
      "E-value: [ 7.42863949 -0.35026174  1.92162225]\n",
      "E-vector:\n",
      " [[-0.48912952 -0.91067388 -0.42174966]\n",
      " [-0.71827142  0.15443206 -0.5890845 ]\n",
      " [-0.49481156  0.38317596  0.68927982]]\n"
     ]
    }
   ],
   "source": [
    "a = np.array([[1, 3, 2],[2, 4, 3],[2, 1, 4]])\n",
    "\n",
    "value, vector = eig(a)\n",
    "#print(value.min())\n",
    "print(\"E-value:\", value)\n",
    "print(\"E-vector:\\n\", vector)"
   ]
  }
 ],
 "metadata": {
  "kernelspec": {
   "display_name": "Python 3",
   "language": "python",
   "name": "python3"
  },
  "language_info": {
   "codemirror_mode": {
    "name": "ipython",
    "version": 3
   },
   "file_extension": ".py",
   "mimetype": "text/x-python",
   "name": "python",
   "nbconvert_exporter": "python",
   "pygments_lexer": "ipython3",
   "version": "3.11.2"
  },
  "orig_nbformat": 4
 },
 "nbformat": 4,
 "nbformat_minor": 2
}
