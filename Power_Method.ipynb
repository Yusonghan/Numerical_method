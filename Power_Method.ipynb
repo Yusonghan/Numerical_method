{
 "cells": [
  {
   "cell_type": "code",
   "execution_count": 2,
   "metadata": {},
   "outputs": [],
   "source": [
    "import numpy as np\n",
    "from numpy.linalg import eig\n",
    "from math import pow"
   ]
  },
  {
   "cell_type": "code",
   "execution_count": 3,
   "metadata": {},
   "outputs": [],
   "source": [
    "def inverse_normalize(x):\n",
    "    # factor fac is the maximum absoulute value of x\n",
    "    fac=x.max() #取向量中最大值\n",
    "    x_n=x/fac\n",
    "    return fac, x_n #求最大特徵值"
   ]
  },
  {
   "cell_type": "code",
   "execution_count": 4,
   "metadata": {},
   "outputs": [],
   "source": [
    "def power_method(A, x):\n",
    "    # The subtraction of the lambda_0 and the lambda_1 must be less than 1e-30\n",
    "    eigenvalue_true,eigenvector_true=eig(A)\n",
    "    eigenvalue_max=eigenvalue_true.max()\n",
    "    #print(eigenvalue_max)\n",
    "    x=np.dot(A,x)\n",
    "    lambda_1,x=inverse_normalize(x) #先做一次給lambda_1初值\n",
    "    a=True \n",
    "    i = 1  \n",
    "    while a==True: #跑誤差迴圈 \n",
    "        x=np.dot(A,x) \n",
    "        lambda_1,x=inverse_normalize(x)        \n",
    "        error=abs(eigenvalue_max-lambda_1) #誤差等於lambda_1跟eigenvalue_max的差值\n",
    "        if(error<1e-10):\n",
    "            #print(error)\n",
    "            a=False\n",
    "        i+=1\n",
    "    #print(i)\n",
    "    x_n=np.dot(A,x) #np.dot(A,x)=lambda*x\n",
    "    lambda_1=x_n[0]/x[0] #x_n=lambda*x\n",
    "    return lambda_1, x"
   ]
  },
  {
   "cell_type": "code",
   "execution_count": 5,
   "metadata": {},
   "outputs": [
    {
     "name": "stdout",
     "output_type": "stream",
     "text": [
      "The maximum Eigenvalue: 3.8541019663150373\n",
      "Eigenvector: [1.         0.61803399]\n"
     ]
    }
   ],
   "source": [
    "A=np.array([[2,3],[3,-1]])\n",
    "x=np.array([1,1])\n",
    "eigenvalue,eigenvector=power_method(A,x)\n",
    "\n",
    "print(\"The maximum Eigenvalue:\", eigenvalue)\n",
    "print(\"Eigenvector:\", eigenvector)\n",
    "\n",
    "#value, vector = eig(A)\n",
    "#print(\"E-value:\", value)\n",
    "#print(\"E-vector:\\n\", vector)"
   ]
  },
  {
   "cell_type": "code",
   "execution_count": 6,
   "metadata": {},
   "outputs": [
    {
     "name": "stdout",
     "output_type": "stream",
     "text": [
      "The maximum Eigenvalue: 6.029111920026742\n",
      "Eigenvector: [0.7191869  0.89768453 1.        ]\n"
     ]
    }
   ],
   "source": [
    "A=np.array([[2,1,2],[1,3,2],[2,4,1]])\n",
    "x=np.array([1,1,1])\n",
    "eigenvalue,eigenvector=power_method(A,x)\n",
    "\n",
    "print(\"The maximum Eigenvalue:\", eigenvalue)\n",
    "print(\"Eigenvector:\", eigenvector)"
   ]
  }
 ],
 "metadata": {
  "kernelspec": {
   "display_name": "Python 3",
   "language": "python",
   "name": "python3"
  },
  "language_info": {
   "codemirror_mode": {
    "name": "ipython",
    "version": 3
   },
   "file_extension": ".py",
   "mimetype": "text/x-python",
   "name": "python",
   "nbconvert_exporter": "python",
   "pygments_lexer": "ipython3",
   "version": "3.11.2"
  },
  "orig_nbformat": 4
 },
 "nbformat": 4,
 "nbformat_minor": 2
}
